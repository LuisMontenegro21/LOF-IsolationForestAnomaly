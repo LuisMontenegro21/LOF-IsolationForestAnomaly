{
 "cells": [
  {
   "cell_type": "markdown",
   "id": "fe2d2424",
   "metadata": {},
   "source": [
    "# Lab 9 - Detección de Anomalías con Autoencoder, Isolation Forest y LOF"
   ]
  },
  {
   "cell_type": "code",
   "execution_count": null,
   "id": "78c57f50",
   "metadata": {},
   "outputs": [],
   "source": [
    "from sklearn.datasets import fetch_covtype\n",
    "import numpy as np \n",
    "import pandas as pd\n"
   ]
  },
  {
   "cell_type": "code",
   "execution_count": null,
   "id": "61982001",
   "metadata": {},
   "outputs": [],
   "source": [
    "bunch = fetch_covtype(as_frame=True)\n",
    "\n",
    "df: pd.DataFrame = bunch.data \n",
    "srs: pd.Series = bunch.target\n",
    "\n",
    "print(df.shape, srs.shape)"
   ]
  }
 ],
 "metadata": {
  "kernelspec": {
   "display_name": "venv",
   "language": "python",
   "name": "python3"
  },
  "language_info": {
   "codemirror_mode": {
    "name": "ipython",
    "version": 3
   },
   "file_extension": ".py",
   "mimetype": "text/x-python",
   "name": "python",
   "nbconvert_exporter": "python",
   "pygments_lexer": "ipython3",
   "version": "3.12.4"
  }
 },
 "nbformat": 4,
 "nbformat_minor": 5
}
